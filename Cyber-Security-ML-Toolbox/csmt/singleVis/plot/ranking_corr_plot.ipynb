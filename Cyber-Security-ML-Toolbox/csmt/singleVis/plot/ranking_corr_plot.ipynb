{
 "cells": [
  {
   "cell_type": "code",
   "execution_count": 1,
   "metadata": {},
   "outputs": [],
   "source": [
    "import matplotlib.pyplot as plt\n",
    "import numpy as np\n",
    "import os\n",
    "import pandas as pd\n",
    "import matplotlib.pyplot as plt\n",
    "import seaborn as sns"
   ]
  },
  {
   "cell_type": "code",
   "execution_count": 2,
   "metadata": {},
   "outputs": [],
   "source": [
    "output_type = \"png\" # or \"pdf\"\n",
    "timevis = \"noB_tnn\"\n",
    "dvi = \"parametricUmap_step2_A\""
   ]
  },
  {
   "cell_type": "code",
   "execution_count": 3,
   "metadata": {},
   "outputs": [],
   "source": [
    "DATASET = \"mnist\"\n",
    "CONTENT_PATH = \"/home/xianglin/projects/DVI_data/resnet18_{}\".format(DATASET)\n",
    "content_path = CONTENT_PATH"
   ]
  },
  {
   "cell_type": "code",
   "execution_count": 4,
   "metadata": {},
   "outputs": [],
   "source": [
    "train_corrs = np.load(os.path.join(CONTENT_PATH, \"Model\", \"{}_3_corrs.npy\".format(timevis)))\n",
    "train_ps = np.load(os.path.join(CONTENT_PATH, \"Model\", \"{}_3_ps.npy\".format(timevis)))\n",
    "train_tnn = np.load(os.path.join(CONTENT_PATH, \"Model\", \"{}_3_5_tnn.npy\".format(timevis)))\n",
    "test_corrs = np.load(os.path.join(CONTENT_PATH, \"Model\", \"{}_test_3_corrs.npy\".format(timevis)))\n",
    "test_ps = np.load(os.path.join(CONTENT_PATH, \"Model\", \"{}_test_3_ps.npy\".format(timevis)))\n",
    "test_tnn = np.load(os.path.join(CONTENT_PATH, \"Model\", \"{}_test_3_5_tnn.npy\".format(timevis)))\n",
    "\n",
    "\n",
    "dvi_train_corrs = np.load(os.path.join(CONTENT_PATH, \"Model\", \"DVI_train_{}_3_corrs.npy\".format(dvi)))\n",
    "dvi_train_ps = np.load(os.path.join(CONTENT_PATH, \"Model\", \"DVI_train_{}_3_ps.npy\".format(dvi)))\n",
    "dvi_train_tnn = np.load(os.path.join(CONTENT_PATH, \"Model\", \"DVI_train_{}_3_5_tnn.npy\".format(dvi)))\n",
    "dvi_test_corrs = np.load(os.path.join(CONTENT_PATH, \"Model\", \"DVI_test_{}_3_corrs.npy\".format(dvi)))\n",
    "dvi_test_ps = np.load(os.path.join(CONTENT_PATH, \"Model\", \"DVI_test_{}_3_ps.npy\".format(dvi)))\n",
    "dvi_test_tnn = np.load(os.path.join(CONTENT_PATH, \"Model\", \"DVI_test_{}_3_5_tnn.npy\".format(dvi)))\n"
   ]
  },
  {
   "cell_type": "code",
   "execution_count": 5,
   "metadata": {},
   "outputs": [],
   "source": [
    "selected_idxs = np.argsort(train_corrs[19])[-100:]"
   ]
  },
  {
   "cell_type": "code",
   "execution_count": 6,
   "metadata": {},
   "outputs": [
    {
     "data": {
      "text/plain": [
       "(<seaborn.axisgrid.FacetGrid at 0x7fb4dc4bfa50>,\n",
       " <seaborn.axisgrid.FacetGrid at 0x7fb4dc6110d0>)"
      ]
     },
     "execution_count": 6,
     "metadata": {},
     "output_type": "execute_result"
    },
    {
     "data": {
      "image/png": "[encoded data removed]",
      "text/plain": [
       "<Figure size 360x360 with 1 Axes>"
      ]
     },
     "metadata": {
      "needs_background": "light"
     },
     "output_type": "display_data"
    },
    {
     "data": {
      "image/png": "[encoded data removed]",
      "text/plain": [
       "<Figure size 360x360 with 1 Axes>"
      ]
     },
     "metadata": {
      "needs_background": "light"
     },
     "output_type": "display_data"
    }
   ],
   "source": [
    "sns.displot(train_corrs[0][selected_idxs]),sns.displot(train_corrs[0])"
   ]
  },
  {
   "cell_type": "code",
   "execution_count": 6,
   "metadata": {},
   "outputs": [],
   "source": [
    "epoch_num = train_corrs.shape[0]\n",
    "train_num = train_corrs.shape[1]\n",
    "test_num = test_corrs.shape[1]\n",
    "\n",
    "train_data = np.zeros((epoch_num*train_num, 2))\n",
    "for i in range(len(train_corrs)):\n",
    "    train_data[i*train_num:(i+1)*train_num][:,0] = train_corrs[i]\n",
    "    train_data[i*train_num:(i+1)*train_num][:,1] = i+1\n",
    "test_data = np.zeros((epoch_num*test_num, 2))\n",
    "for i in range(len(test_corrs)):\n",
    "    test_data[i*test_num:(i+1)*test_num][:,0] = test_corrs[i]\n",
    "    test_data[i*test_num:(i+1)*test_num][:,1] = i+1\n",
    "data = np.concatenate((train_data, test_data), axis=0)\n",
    "type = [\"Train\" for _ in range(len(train_data))] + [\"Test\" for _ in range(len(test_data))]\n",
    "method = [\"TimeVis\" for _ in range(len(data))]\n",
    "\n",
    "dvi_train_data = np.zeros((epoch_num*train_num, 2))\n",
    "for i in range(len(dvi_train_corrs)):\n",
    "    dvi_train_data[i*train_num:(i+1)*train_num][:,0] = dvi_train_corrs[i]\n",
    "    dvi_train_data[i*train_num:(i+1)*train_num][:,1] = i+1\n",
    "dvi_test_data = np.zeros((epoch_num*test_num, 2))\n",
    "for i in range(len(dvi_test_corrs)):\n",
    "    dvi_test_data[i*test_num:(i+1)*test_num][:,0] = dvi_test_corrs[i]\n",
    "    dvi_test_data[i*test_num:(i+1)*test_num][:,1] = i+1\n",
    "dvi_data = np.concatenate((dvi_train_data, dvi_test_data), axis=0)\n",
    "dvi_type = [\"Train\" for _ in range(len(dvi_train_data))]+[\"Test\" for _ in range(len(dvi_test_data))]\n",
    "dvi_method = [\"DVI\" for _ in range(len(dvi_data))]\n",
    "\n",
    "data = np.concatenate((data, dvi_data), axis=0)\n",
    "type = type + dvi_type\n",
    "method = method + dvi_method\n",
    "\n",
    "df = pd.DataFrame(data,columns=[\"corr\", \"epoch\"])\n",
    "df2 = df.assign(type = type)\n",
    "df3 = df2.assign(method = method)\n",
    "df3[[\"epoch\"]] = df[[\"epoch\"]].astype(int)\n"
   ]
  },
  {
   "cell_type": "code",
   "execution_count": 7,
   "metadata": {},
   "outputs": [
    {
     "data": {
      "text/plain": [
       "<Figure size 600x400 with 0 Axes>"
      ]
     },
     "metadata": {},
     "output_type": "display_data"
    }
   ],
   "source": [
    "plt.rcParams['figure.dpi'] = 100  # 图形分辨率\n",
    "sns.set_theme(style='darkgrid')\n",
    "plt.style.use('ggplot')\n",
    "plt.title(\"MNIST\")\n",
    "fg = sns.lineplot(x=\"epoch\", y=\"corr\", hue=\"method\", style=\"type\", markers=False, ci=95, data=df3)\n",
    "plt.savefig(\n",
    "    \"./plot_results/corr_3_{}.{}\".format(\"mnist\", output_type),\n",
    "    dpi=300,\n",
    "    bbox_inches=\"tight\",\n",
    "    pad_inches=0.0,\n",
    ")\n",
    "plt.clf()"
   ]
  },
  {
   "cell_type": "code",
   "execution_count": 7,
   "metadata": {},
   "outputs": [
    {
     "data": {
      "text/plain": [
       "<Figure size 600x400 with 0 Axes>"
      ]
     },
     "metadata": {},
     "output_type": "display_data"
    }
   ],
   "source": [
    "epoch_num = train_tnn.shape[0]\n",
    "train_num = train_tnn.shape[1]\n",
    "test_num = test_tnn.shape[1]\n",
    "\n",
    "train_data = np.zeros((epoch_num*train_num, 2))\n",
    "for i in range(len(train_tnn)):\n",
    "    train_data[i*train_num:(i+1)*train_num][:,0] = train_tnn[i]\n",
    "    train_data[i*train_num:(i+1)*train_num][:,1] = i+1\n",
    "test_data = np.zeros((epoch_num*test_num, 2))\n",
    "for i in range(len(test_tnn)):\n",
    "    test_data[i*test_num:(i+1)*test_num][:,0] = test_tnn[i]\n",
    "    test_data[i*test_num:(i+1)*test_num][:,1] = i+1\n",
    "data = np.concatenate((train_data, test_data), axis=0)\n",
    "type = [\"Train\" for _ in range(len(train_data))] + [\"Test\" for _ in range(len(test_data))]\n",
    "method = [\"TimeVis\" for _ in range(len(data))]\n",
    "\n",
    "dvi_train_data = np.zeros((epoch_num*train_num, 2))\n",
    "for i in range(len(dvi_train_tnn)):\n",
    "    dvi_train_data[i*train_num:(i+1)*train_num][:,0] = dvi_train_tnn[i]\n",
    "    dvi_train_data[i*train_num:(i+1)*train_num][:,1] = i+1\n",
    "dvi_test_data = np.zeros((epoch_num*test_num, 2))\n",
    "for i in range(len(dvi_test_tnn)):\n",
    "    dvi_test_data[i*test_num:(i+1)*test_num][:,0] = dvi_test_tnn[i]\n",
    "    dvi_test_data[i*test_num:(i+1)*test_num][:,1] = i+1\n",
    "dvi_data = np.concatenate((dvi_train_data, dvi_test_data), axis=0)\n",
    "dvi_type = [\"Train\" for _ in range(len(dvi_train_data))]+[\"Test\" for _ in range(len(dvi_test_data))]\n",
    "dvi_method = [\"DVI\" for _ in range(len(dvi_data))]\n",
    "\n",
    "data = np.concatenate((data, dvi_data), axis=0)\n",
    "type = type + dvi_type\n",
    "method = method + dvi_method\n",
    "\n",
    "df = pd.DataFrame(data,columns=[\"tnn\", \"epoch\"])\n",
    "df2 = df.assign(type = type)\n",
    "df3 = df2.assign(method = method)\n",
    "df3[[\"epoch\"]] = df[[\"epoch\"]].astype(int)\n",
    "plt.rcParams['figure.dpi'] = 100  # 图形分辨率\n",
    "sns.set_theme(style='darkgrid')\n",
    "plt.style.use('ggplot')\n",
    "plt.title(\"MNIST\")\n",
    "fg = sns.lineplot(x=\"epoch\", y=\"tnn\", hue=\"method\", style=\"type\", markers=False, ci=95, data=df3)\n",
    "plt.savefig(\n",
    "    \"./plot_results/tnn_{}.{}\".format(\"mnist\", output_type),\n",
    "    dpi=300,\n",
    "    bbox_inches=\"tight\",\n",
    "    pad_inches=0.0,\n",
    ")\n",
    "plt.clf()"
   ]
  },
  {
   "cell_type": "code",
   "execution_count": 3,
   "metadata": {},
   "outputs": [],
   "source": [
    "DATASET = \"fmnist\"\n",
    "CONTENT_PATH = \"/home/xianglin/projects/DVI_data/resnet18_{}\".format(DATASET)\n",
    "content_path = CONTENT_PATH"
   ]
  },
  {
   "cell_type": "code",
   "execution_count": 4,
   "metadata": {},
   "outputs": [],
   "source": [
    "train_corrs = np.load(os.path.join(CONTENT_PATH, \"Model\", \"{}_3_corrs.npy\".format(timevis)))\n",
    "train_ps = np.load(os.path.join(CONTENT_PATH, \"Model\", \"{}_3_ps.npy\".format(timevis)))\n",
    "train_tnn = np.load(os.path.join(CONTENT_PATH, \"Model\", \"{}_3_5_tnn.npy\".format(timevis)))\n",
    "test_corrs = np.load(os.path.join(CONTENT_PATH, \"Model\", \"{}_test_3_corrs.npy\".format(timevis)))\n",
    "test_ps = np.load(os.path.join(CONTENT_PATH, \"Model\", \"{}_test_3_ps.npy\".format(timevis)))\n",
    "test_tnn = np.load(os.path.join(CONTENT_PATH, \"Model\", \"{}_test_3_5_tnn.npy\".format(timevis)))\n",
    "\n",
    "\n",
    "dvi_train_corrs = np.load(os.path.join(CONTENT_PATH, \"Model\", \"DVI_train_{}_3_corrs.npy\".format(dvi)))\n",
    "dvi_train_ps = np.load(os.path.join(CONTENT_PATH, \"Model\", \"DVI_train_{}_3_ps.npy\".format(dvi)))\n",
    "dvi_train_tnn = np.load(os.path.join(CONTENT_PATH, \"Model\", \"DVI_train_{}_3_5_tnn.npy\".format(dvi)))\n",
    "dvi_test_corrs = np.load(os.path.join(CONTENT_PATH, \"Model\", \"DVI_test_{}_3_corrs.npy\".format(dvi)))\n",
    "dvi_test_ps = np.load(os.path.join(CONTENT_PATH, \"Model\", \"DVI_test_{}_3_ps.npy\".format(dvi)))\n",
    "dvi_test_tnn = np.load(os.path.join(CONTENT_PATH, \"Model\", \"DVI_test_{}_3_5_tnn.npy\".format(dvi)))"
   ]
  },
  {
   "cell_type": "code",
   "execution_count": 5,
   "metadata": {},
   "outputs": [],
   "source": [
    "epoch_num = train_corrs.shape[0]\n",
    "train_num = train_corrs.shape[1]\n",
    "test_num = test_corrs.shape[1]\n",
    "\n",
    "train_data = np.zeros((epoch_num*train_num, 2))\n",
    "for i in range(len(train_corrs)):\n",
    "    train_data[i*train_num:(i+1)*train_num][:,0] = train_corrs[i]\n",
    "    train_data[i*train_num:(i+1)*train_num][:,1] = i+1\n",
    "test_data = np.zeros((epoch_num*test_num, 2))\n",
    "for i in range(len(test_corrs)):\n",
    "    test_data[i*test_num:(i+1)*test_num][:,0] = test_corrs[i]\n",
    "    test_data[i*test_num:(i+1)*test_num][:,1] = i+1\n",
    "data = np.concatenate((train_data, test_data), axis=0)\n",
    "type = [\"Train\" for _ in range(len(train_data))] + [\"Test\" for _ in range(len(test_data))]\n",
    "method = [\"TimeVis\" for _ in range(len(data))]\n",
    "\n",
    "dvi_train_data = np.zeros((epoch_num*train_num, 2))\n",
    "for i in range(len(dvi_train_corrs)):\n",
    "    dvi_train_data[i*train_num:(i+1)*train_num][:,0] = dvi_train_corrs[i]\n",
    "    dvi_train_data[i*train_num:(i+1)*train_num][:,1] = i+1\n",
    "dvi_test_data = np.zeros((epoch_num*test_num, 2))\n",
    "for i in range(len(dvi_test_corrs)):\n",
    "    dvi_test_data[i*test_num:(i+1)*test_num][:,0] = dvi_test_corrs[i]\n",
    "    dvi_test_data[i*test_num:(i+1)*test_num][:,1] = i+1\n",
    "dvi_data = np.concatenate((dvi_train_data, dvi_test_data), axis=0)\n",
    "dvi_type = [\"Train\" for _ in range(len(dvi_train_data))]+[\"Test\" for _ in range(len(dvi_test_data))]\n",
    "dvi_method = [\"DVI\" for _ in range(len(dvi_data))]\n",
    "\n",
    "data = np.concatenate((data, dvi_data), axis=0)\n",
    "type = type + dvi_type\n",
    "method = method + dvi_method\n",
    "\n",
    "df = pd.DataFrame(data,columns=[\"corr\", \"epoch\"])\n",
    "df2 = df.assign(type = type)\n",
    "df3 = df2.assign(method = method)\n",
    "df3[[\"epoch\"]] = df[[\"epoch\"]].astype(int)"
   ]
  },
  {
   "cell_type": "code",
   "execution_count": 6,
   "metadata": {},
   "outputs": [
    {
     "data": {
      "text/plain": [
       "<Figure size 600x400 with 0 Axes>"
      ]
     },
     "metadata": {},
     "output_type": "display_data"
    }
   ],
   "source": [
    "plt.rcParams['figure.dpi'] = 100  # 图形分辨率\n",
    "sns.set_theme(style='darkgrid')\n",
    "plt.style.use('ggplot')\n",
    "plt.title(\"FMNIST\")\n",
    "sns.lineplot(x=\"epoch\", y=\"corr\", hue=\"method\", style=\"type\", markers=False, ci=95, data=df3)\n",
    "\n",
    "plt.savefig(\n",
    "    \"./plot_results/corr_3_{}.{}\".format(\"fmnist\", output_type),\n",
    "    dpi=300,\n",
    "    bbox_inches=\"tight\",\n",
    "    pad_inches=0.0,\n",
    ")\n",
    "plt.clf()"
   ]
  },
  {
   "cell_type": "code",
   "execution_count": 7,
   "metadata": {},
   "outputs": [
    {
     "data": {
      "text/plain": [
       "<Figure size 600x400 with 0 Axes>"
      ]
     },
     "metadata": {},
     "output_type": "display_data"
    }
   ],
   "source": [
    "epoch_num = train_tnn.shape[0]\n",
    "train_num = train_tnn.shape[1]\n",
    "test_num = test_tnn.shape[1]\n",
    "\n",
    "train_data = np.zeros((epoch_num*train_num, 2))\n",
    "for i in range(len(train_tnn)):\n",
    "    train_data[i*train_num:(i+1)*train_num][:,0] = train_tnn[i]\n",
    "    train_data[i*train_num:(i+1)*train_num][:,1] = i+1\n",
    "test_data = np.zeros((epoch_num*test_num, 2))\n",
    "for i in range(len(test_tnn)):\n",
    "    test_data[i*test_num:(i+1)*test_num][:,0] = test_tnn[i]\n",
    "    test_data[i*test_num:(i+1)*test_num][:,1] = i+1\n",
    "data = np.concatenate((train_data, test_data), axis=0)\n",
    "type = [\"Train\" for _ in range(len(train_data))] + [\"Test\" for _ in range(len(test_data))]\n",
    "method = [\"TimeVis\" for _ in range(len(data))]\n",
    "\n",
    "dvi_train_data = np.zeros((epoch_num*train_num, 2))\n",
    "for i in range(len(dvi_train_tnn)):\n",
    "    dvi_train_data[i*train_num:(i+1)*train_num][:,0] = dvi_train_tnn[i]\n",
    "    dvi_train_data[i*train_num:(i+1)*train_num][:,1] = i+1\n",
    "dvi_test_data = np.zeros((epoch_num*test_num, 2))\n",
    "for i in range(len(dvi_test_tnn)):\n",
    "    dvi_test_data[i*test_num:(i+1)*test_num][:,0] = dvi_test_tnn[i]\n",
    "    dvi_test_data[i*test_num:(i+1)*test_num][:,1] = i+1\n",
    "dvi_data = np.concatenate((dvi_train_data, dvi_test_data), axis=0)\n",
    "dvi_type = [\"Train\" for _ in range(len(dvi_train_data))]+[\"Test\" for _ in range(len(dvi_test_data))]\n",
    "dvi_method = [\"DVI\" for _ in range(len(dvi_data))]\n",
    "\n",
    "data = np.concatenate((data, dvi_data), axis=0)\n",
    "type = type + dvi_type\n",
    "method = method + dvi_method\n",
    "\n",
    "df = pd.DataFrame(data,columns=[\"tnn\", \"epoch\"])\n",
    "df2 = df.assign(type = type)\n",
    "df3 = df2.assign(method = method)\n",
    "df3[[\"epoch\"]] = df[[\"epoch\"]].astype(int)\n",
    "plt.rcParams['figure.dpi'] = 100  # 图形分辨率\n",
    "sns.set_theme(style='darkgrid')\n",
    "plt.style.use('ggplot')\n",
    "plt.title(\"FMNIST\")\n",
    "sns.lineplot(x=\"epoch\", y=\"tnn\", hue=\"method\", style=\"type\", markers=False, ci=95, data=df3)\n",
    "\n",
    "plt.savefig(\n",
    "    \"./plot_results/tnn_{}.{}\".format(\"fmnist\", output_type),\n",
    "    dpi=300,\n",
    "    bbox_inches=\"tight\",\n",
    "    pad_inches=0.0,\n",
    ")\n",
    "plt.clf()"
   ]
  },
  {
   "cell_type": "code",
   "execution_count": 8,
   "metadata": {},
   "outputs": [],
   "source": [
    "DATASET = \"cifar10\"\n",
    "CONTENT_PATH = \"/home/xianglin/projects/DVI_data/resnet18_{}\".format(DATASET)\n",
    "content_path = CONTENT_PATH"
   ]
  },
  {
   "cell_type": "code",
   "execution_count": 9,
   "metadata": {},
   "outputs": [],
   "source": [
    "train_corrs = np.load(os.path.join(CONTENT_PATH, \"Model\", \"{}_3_corrs.npy\".format(timevis)))\n",
    "train_ps = np.load(os.path.join(CONTENT_PATH, \"Model\", \"{}_3_ps.npy\".format(timevis)))\n",
    "train_tnn = np.load(os.path.join(CONTENT_PATH, \"Model\", \"{}_3_5_tnn.npy\".format(timevis)))\n",
    "test_corrs = np.load(os.path.join(CONTENT_PATH, \"Model\", \"{}_test_3_corrs.npy\".format(timevis)))\n",
    "test_ps = np.load(os.path.join(CONTENT_PATH, \"Model\", \"{}_test_3_ps.npy\".format(timevis)))\n",
    "test_tnn = np.load(os.path.join(CONTENT_PATH, \"Model\", \"{}_test_3_5_tnn.npy\".format(timevis)))\n",
    "\n",
    "\n",
    "dvi_train_corrs = np.load(os.path.join(CONTENT_PATH, \"Model\", \"DVI_train_{}_3_corrs.npy\".format(dvi)))\n",
    "dvi_train_ps = np.load(os.path.join(CONTENT_PATH, \"Model\", \"DVI_train_{}_3_ps.npy\".format(dvi)))\n",
    "dvi_train_tnn = np.load(os.path.join(CONTENT_PATH, \"Model\", \"DVI_train_{}_3_5_tnn.npy\".format(dvi)))\n",
    "dvi_test_corrs = np.load(os.path.join(CONTENT_PATH, \"Model\", \"DVI_test_{}_3_corrs.npy\".format(dvi)))\n",
    "dvi_test_ps = np.load(os.path.join(CONTENT_PATH, \"Model\", \"DVI_test_{}_3_ps.npy\".format(dvi)))\n",
    "dvi_test_tnn = np.load(os.path.join(CONTENT_PATH, \"Model\", \"DVI_test_{}_3_5_tnn.npy\".format(dvi)))"
   ]
  },
  {
   "cell_type": "code",
   "execution_count": 10,
   "metadata": {},
   "outputs": [],
   "source": [
    "epoch_num = train_corrs.shape[0]\n",
    "train_num = train_corrs.shape[1]\n",
    "test_num = test_corrs.shape[1]\n",
    "\n",
    "train_data = np.zeros((epoch_num*train_num, 2))\n",
    "for i in range(len(train_corrs)):\n",
    "    train_data[i*train_num:(i+1)*train_num][:,0] = train_corrs[i]\n",
    "    train_data[i*train_num:(i+1)*train_num][:,1] = i+1\n",
    "test_data = np.zeros((epoch_num*test_num, 2))\n",
    "for i in range(len(test_corrs)):\n",
    "    test_data[i*test_num:(i+1)*test_num][:,0] = test_corrs[i]\n",
    "    test_data[i*test_num:(i+1)*test_num][:,1] = i+1\n",
    "data = np.concatenate((train_data, test_data), axis=0)\n",
    "type = [\"Train\" for _ in range(len(train_data))] + [\"Test\" for _ in range(len(test_data))]\n",
    "method = [\"TimeVis\" for _ in range(len(data))]\n",
    "\n",
    "dvi_train_data = np.zeros((epoch_num*train_num, 2))\n",
    "for i in range(len(dvi_train_corrs)):\n",
    "    dvi_train_data[i*train_num:(i+1)*train_num][:,0] = dvi_train_corrs[i]\n",
    "    dvi_train_data[i*train_num:(i+1)*train_num][:,1] = i+1\n",
    "dvi_test_data = np.zeros((epoch_num*test_num, 2))\n",
    "for i in range(len(dvi_test_corrs)):\n",
    "    dvi_test_data[i*test_num:(i+1)*test_num][:,0] = dvi_test_corrs[i]\n",
    "    dvi_test_data[i*test_num:(i+1)*test_num][:,1] = i+1\n",
    "dvi_data = np.concatenate((dvi_train_data, dvi_test_data), axis=0)\n",
    "dvi_type = [\"Train\" for _ in range(len(dvi_train_data))]+[\"Test\" for _ in range(len(dvi_test_data))]\n",
    "dvi_method = [\"DVI\" for _ in range(len(dvi_data))]\n",
    "\n",
    "data = np.concatenate((data, dvi_data), axis=0)\n",
    "type = type + dvi_type\n",
    "method = method + dvi_method\n",
    "\n",
    "df = pd.DataFrame(data,columns=[\"corr\", \"epoch\"])\n",
    "df2 = df.assign(type = type)\n",
    "df3 = df2.assign(method = method)\n",
    "df3[[\"epoch\"]] = df[[\"epoch\"]].astype(int)"
   ]
  },
  {
   "cell_type": "code",
   "execution_count": 11,
   "metadata": {},
   "outputs": [
    {
     "data": {
      "text/plain": [
       "<Figure size 600x400 with 0 Axes>"
      ]
     },
     "metadata": {},
     "output_type": "display_data"
    }
   ],
   "source": [
    "plt.rcParams['figure.dpi'] = 100\n",
    "plt.style.use('ggplot')\n",
    "plt.title(\"CIFAR10\")\n",
    "sns.lineplot(x=\"epoch\", y=\"corr\", hue=\"method\", style=\"type\", markers=False, ci=95, data=df3)\n",
    "plt.savefig(\n",
    "    \"./plot_results/corr_3_{}.{}\".format(\"cifar10\", output_type),\n",
    "    dpi=300,\n",
    "    bbox_inches=\"tight\",\n",
    "    pad_inches=0.0,\n",
    ")\n",
    "plt.clf()"
   ]
  },
  {
   "cell_type": "code",
   "execution_count": 12,
   "metadata": {},
   "outputs": [
    {
     "data": {
      "text/plain": [
       "<Figure size 600x400 with 0 Axes>"
      ]
     },
     "metadata": {},
     "output_type": "display_data"
    }
   ],
   "source": [
    "epoch_num = train_tnn.shape[0]\n",
    "train_num = train_tnn.shape[1]\n",
    "test_num = test_tnn.shape[1]\n",
    "\n",
    "train_data = np.zeros((epoch_num*train_num, 2))\n",
    "for i in range(len(train_tnn)):\n",
    "    train_data[i*train_num:(i+1)*train_num][:,0] = train_tnn[i]\n",
    "    train_data[i*train_num:(i+1)*train_num][:,1] = i+1\n",
    "test_data = np.zeros((epoch_num*test_num, 2))\n",
    "for i in range(len(test_tnn)):\n",
    "    test_data[i*test_num:(i+1)*test_num][:,0] = test_tnn[i]\n",
    "    test_data[i*test_num:(i+1)*test_num][:,1] = i+1\n",
    "data = np.concatenate((train_data, test_data), axis=0)\n",
    "type = [\"Train\" for _ in range(len(train_data))] + [\"Test\" for _ in range(len(test_data))]\n",
    "method = [\"TimeVis\" for _ in range(len(data))]\n",
    "\n",
    "dvi_train_data = np.zeros((epoch_num*train_num, 2))\n",
    "for i in range(len(dvi_train_tnn)):\n",
    "    dvi_train_data[i*train_num:(i+1)*train_num][:,0] = dvi_train_tnn[i]\n",
    "    dvi_train_data[i*train_num:(i+1)*train_num][:,1] = i+1\n",
    "dvi_test_data = np.zeros((epoch_num*test_num, 2))\n",
    "for i in range(len(dvi_test_tnn)):\n",
    "    dvi_test_data[i*test_num:(i+1)*test_num][:,0] = dvi_test_tnn[i]\n",
    "    dvi_test_data[i*test_num:(i+1)*test_num][:,1] = i+1\n",
    "dvi_data = np.concatenate((dvi_train_data, dvi_test_data), axis=0)\n",
    "dvi_type = [\"Train\" for _ in range(len(dvi_train_data))]+[\"Test\" for _ in range(len(dvi_test_data))]\n",
    "dvi_method = [\"DVI\" for _ in range(len(dvi_data))]\n",
    "\n",
    "data = np.concatenate((data, dvi_data), axis=0)\n",
    "type = type + dvi_type\n",
    "method = method + dvi_method\n",
    "\n",
    "df = pd.DataFrame(data,columns=[\"tnn\", \"epoch\"])\n",
    "df2 = df.assign(type = type)\n",
    "df3 = df2.assign(method = method)\n",
    "df3[[\"epoch\"]] = df[[\"epoch\"]].astype(int)\n",
    "plt.rcParams['figure.dpi'] = 100\n",
    "plt.style.use('ggplot')\n",
    "plt.title(\"CIFAR10\")\n",
    "sns.lineplot(x=\"epoch\", y=\"tnn\", hue=\"method\", style=\"type\", markers=False, ci=95, data=df3)\n",
    "plt.savefig(\n",
    "    \"./plot_results/tnn_{}.{}\".format(\"cifar10\", output_type),\n",
    "    dpi=300,\n",
    "    bbox_inches=\"tight\",\n",
    "    pad_inches=0.0,\n",
    ")\n",
    "plt.clf()"
   ]
  },
  {
   "cell_type": "code",
   "execution_count": 15,
   "metadata": {},
   "outputs": [],
   "source": [
    "# simple\n",
    "def draw(corrs, ps, corrs2, ps2, title):\n",
    "    fig, axs = plt.subplots(2)\n",
    "    fig.suptitle(title)\n",
    "\n",
    "    epochs = [i for i in range(1, len(corrs)+1, 1)]\n",
    "    mean_corr1 = np.mean(corrs, axis=1)\n",
    "    var_corr1 = np.std(corrs, axis=1)\n",
    "    mean_p1 = np.mean(ps, axis=1)\n",
    "    var_p1 = np.std(ps, axis=1)\n",
    "\n",
    "    mean_corr2 = np.mean(corrs2, axis=1)\n",
    "    var_corr2 = np.std(corrs2, axis=1)\n",
    "    mean_p2 = np.mean(ps2, axis=1)\n",
    "    var_p2 = np.std(ps2, axis=1)\n",
    "\n",
    "    a11 = axs[0].plot(epochs, mean_corr1, \"b.-\", epochs, mean_p1, \"r+-\")\n",
    "    a12 = axs[0].fill_between(epochs, mean_corr1-var_corr1, mean_corr1+var_corr1)\n",
    "    a13 = axs[0].fill_between(epochs, mean_p1-var_p1, mean_p1+var_p1)\n",
    "\n",
    "    a21 = axs[1].plot(epochs, mean_corr2, \"b.-\", epochs, mean_p2, \"r+-\")\n",
    "    a22 = axs[1].fill_between(epochs, mean_corr2-var_corr2, mean_corr2+var_corr2)\n",
    "    a23 = axs[1].fill_between(epochs, mean_p2-var_p2, mean_p2+var_p2)\n",
    "\n",
    "\n",
    "    plt.show()\n",
    "    plt.clf()"
   ]
  }
 ],
 "metadata": {
  "interpreter": {
   "hash": "aa7a9f36e1a1e240450dbe9cc8f6d8df1d5301f36681fb271c44fdd883236b60"
  },
  "kernelspec": {
   "display_name": "Python 3.7.11 ('SV': conda)",
   "language": "python",
   "name": "python3"
  },
  "language_info": {
   "codemirror_mode": {
    "name": "ipython",
    "version": 3
   },
   "file_extension": ".py",
   "mimetype": "text/x-python",
   "name": "python",
   "nbconvert_exporter": "python",
   "pygments_lexer": "ipython3",
   "version": "3.7.12"
  },
  "orig_nbformat": 4
 },
 "nbformat": 4,
 "nbformat_minor": 2
}
