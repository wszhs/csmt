{
 "cells": [
  {
   "cell_type": "code",
   "execution_count": 8,
   "metadata": {},
   "outputs": [
    {
     "ename": "IndentationError",
     "evalue": "expected an indented block (<ipython-input-8-9bc2e8d1e87c>, line 10)",
     "output_type": "error",
     "traceback": [
      "\u001b[0;36m  File \u001b[0;32m\"<ipython-input-8-9bc2e8d1e87c>\"\u001b[0;36m, line \u001b[0;32m10\u001b[0m\n\u001b[0;31m    df = pd.read_csv(\"FE_Traindata/dt0.csv\", header=None, sep=\" \", usecols=cols_to_use)\u001b[0m\n\u001b[0m     ^\u001b[0m\n\u001b[0;31mIndentationError\u001b[0m\u001b[0;31m:\u001b[0m expected an indented block\n"
     ]
    }
   ],
   "source": [
    "import pandas as pd\n",
    "import numpy as np\n",
    "\n",
    "# feature = np.loadtxt(\"feature_mirai.pcap.txt\")\n",
    "# cols_to_use = columns[:len(columns)-1]\n",
    "\n",
    "variables = [dt0, dt1, dt2]\n",
    "\n",
    "df = pd.DataFrame()\n",
    "names = [\"dt0\", \"dt1\", \"dt2\"]\n",
    "for i in range(len(names)):   \n",
    "    df = pd.read_csv(\"FE_Traindata/\"+names[i]+\".csv\", header=None, sep=\" \", usecols=cols_to_use)\n",
    "    feature = np.array(df.iloc[:,range(230)])\n",
    "    print(feature)"
   ]
  },
  {
   "cell_type": "code",
   "execution_count": 7,
   "metadata": {},
   "outputs": [
    {
     "name": "stdout",
     "output_type": "stream",
     "text": [
      "(2741787, 230)\n"
     ]
    }
   ],
   "source": [
    "print(feature.shape)"
   ]
  },
  {
   "cell_type": "code",
   "execution_count": null,
   "metadata": {},
   "outputs": [],
   "source": [
    "from sklearn.preprocessing import MinMaxScaler\n",
    "from numpy.random import permutation\n",
    "unificati = MinMaxScaler()\n",
    "\n",
    "# 取对数\n",
    "log_feature = np.log2(np.sqrt(np.abs(feature))+0.000000000001)\n",
    "\n",
    "\n",
    "# 转换为归一化特征数据\n",
    "feature2 = unificati.fit_transform(log_feature)\n",
    "print(feature2[-1])\n",
    "# print(feature2)\n",
    "\n",
    "feature2_trans = feature2*2-1\n",
    "\n",
    "\n",
    "perm = permutation(feature.shape[0])\n",
    "shuffle_feature2 = feature2_trans[perm]"
   ]
  },
  {
   "cell_type": "code",
   "execution_count": null,
   "metadata": {},
   "outputs": [],
   "source": [
    "feature3 = shuffle_feature2.reshape((feature.shape[0],5,46))\n",
    "print(feature3.shape)\n",
    "print(feature3)"
   ]
  },
  {
   "cell_type": "code",
   "execution_count": null,
   "metadata": {},
   "outputs": [],
   "source": [
    "# labels = pd.read_csv(\"/home/wzl1/infocom/Kitsune-data/Mirai/mirai_labels.csv\", header=None)\n",
    "labels = df.iloc[:,231]\n",
    "# fields = pd.read_csv(\"/home/wzl1/infocom/Kitsune-data/Mirai/Mirai_pcap.pcapout.csv\")\n",
    "# print(fields) #[764137 rows x 19 columns]\n",
    "# print(labels) #[764137 rows x 1 columns]\n",
    "label2 = np.array(labels).reshape(-1)\n",
    "print(label2.shape)\n",
    "shuffle_label2 = label2[perm]"
   ]
  },
  {
   "cell_type": "code",
   "execution_count": null,
   "metadata": {},
   "outputs": [],
   "source": [
    "train_size = 60000\n",
    "test_size = 10000\n",
    "\n",
    "train_feature = feature3[:train_size]\n",
    "test_feature = feature3[train_size:train_size+test_size]\n",
    "print(train_feature.shape)\n",
    "print(test_feature.shape)\n",
    "label3 = shuffle_label2[:600000]\n",
    "train_label = label3[:train_size]\n",
    "test_label = label3[train_size:train_size+test_size]\n",
    "print(train_label.shape)\n",
    "print(test_label.shape)"
   ]
  },
  {
   "cell_type": "code",
   "execution_count": null,
   "metadata": {},
   "outputs": [],
   "source": [
    "np.save(\"/home/wzl1/infocom/MNIST-baselines/data/mirai_subset_train/mirai_train_data.npy\", train_feature)\n",
    "np.save(\"/home/wzl1/infocom/MNIST-baselines/data/mirai_subset_test/mirai_test_data.npy\", test_feature)\n",
    "np.save(\"/home/wzl1/infocom/MNIST-baselines/data/mirai_subset_train/mirai_train_label.npy\", train_label)\n",
    "np.save(\"/home/wzl1/infocom/MNIST-baselines/data/mirai_subset_test/mirai_test_label.npy\", test_label)"
   ]
  },
  {
   "cell_type": "code",
   "execution_count": null,
   "metadata": {},
   "outputs": [],
   "source": []
  }
 ],
 "metadata": {
  "kernelspec": {
   "display_name": "Python 3",
   "language": "python",
   "name": "python3"
  },
  "language_info": {
   "codemirror_mode": {
    "name": "ipython",
    "version": 3
   },
   "file_extension": ".py",
   "mimetype": "text/x-python",
   "name": "python",
   "nbconvert_exporter": "python",
   "pygments_lexer": "ipython3",
   "version": "3.5.4"
  }
 },
 "nbformat": 4,
 "nbformat_minor": 2
}
