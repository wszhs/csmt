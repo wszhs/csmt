{
 "cells": [
  {
   "cell_type": "code",
   "execution_count": 1,
   "metadata": {},
   "outputs": [
    {
     "name": "stderr",
     "output_type": "stream",
     "text": [
      "usage: ipykernel_launcher.py [-h] [--attack_models {lr}]\n",
      "                             [--adv_train_models {lr}]\n",
      "                             [--algorithms {lstm_keras,ae,ft_transformer,lr,svm,dt,rf,xgboost,lightgbm,catboost,deepforest,knn,hmm,mlp_keras,mlp_torch,cnn_torch,kitnet,if,diff-rf,soft_ensemble,hard_ensmeble,stacking_ensemble,bayes_ensemble}]\n",
      "                             [--datasets {cora_graph,blob,anomaly,breast_cancer_zhs,iris_zhs,cicids2017,cicandmal2017,twitter_spam,bodmas,malimg}]\n",
      "                             [--evasion_algorithm {universal,bayes,fgsm,fgsm_l1,pgd,cw,bound,jsma,bim,deepfool,zoo,hsj,zones,zosgd,zoscd,zoadamm,zo_shap_sgd,zo_shap_scd,tree,zosgd_sum}]\n",
      "                             [--adv_train_algorithm {fgsm,pgd,cw,bound,jsma,bim,deepfool,zoo,hsj,zones,zosgd,zoscd,zoadamm,zo_shap_sgd,zo_shap_scd,tree,zosgd_sum}]\n",
      "ipykernel_launcher.py: error: unrecognized arguments: --ip 127.0.0.1 --stdin 9023 --control 9021 --hb 9020 --Session.signature_scheme \"hmac-sha256\" --Session.key b\"01a114b1-3a99-4dd0-ac89-d8720c5e76c4\" --shell 9022 --transport \"tcp\" --iopub 9024 --f /Users/zhanghangsheng/Library/Jupyter/runtime/kernel-40195USRi53ODTXmV.json\n"
     ]
    },
    {
     "ename": "SystemExit",
     "evalue": "2",
     "output_type": "error",
     "traceback": [
      "An exception has occurred, use %tb to see the full traceback.\n",
      "\u001b[0;31mSystemExit\u001b[0m\u001b[0;31m:\u001b[0m 2\n"
     ]
    },
    {
     "name": "stderr",
     "output_type": "stream",
     "text": [
      "/opt/anaconda3/envs/py36/lib/python3.6/site-packages/IPython/core/interactiveshell.py:3351: UserWarning: To exit: use 'exit', 'quit', or Ctrl-D.\n",
      "  warn(\"To exit: use 'exit', 'quit', or Ctrl-D.\", stacklevel=1)\n"
     ]
    }
   ],
   "source": [
    "import sys\n",
    "sys.path.append(\"/Users/zhanghangsheng/Documents/my_code/Cyber-Security-ML-Toolbox\")\n",
    "from csmt.get_model_data import get_datasets,parse_arguments,models_train,print_results,models_predict\n",
    "import numpy as np\n",
    "import torch\n",
    "import random\n",
    "from csmt.Interpretability.interpret.blackbox import LimeTabular\n",
    "from csmt.Interpretability.interpret import show\n",
    "\n",
    "def setup_seed(seed):\n",
    "     torch.manual_seed(seed)\n",
    "     torch.cuda.manual_seed_all(seed)\n",
    "     np.random.seed(seed)\n",
    "     random.seed(seed)\n",
    "     torch.backends.cudnn.deterministic = True\n",
    "# 设置随机数种子\n",
    "setup_seed(20)\n",
    "\n",
    "if __name__=='__main__':\n",
    "     \n",
    "     arguments = sys.argv[1:]\n",
    "     options = parse_arguments(arguments)\n",
    "     datasets_name=options.datasets\n",
    "     orig_models_name=options.algorithms\n",
    "\n",
    "     X_train,y_train,X_val,y_val,X_test,y_test,mask=get_datasets(options)\n",
    "     X_train,y_train,X_test,y_test=X_train,y_train,X_test,y_test\n",
    "\n",
    "     trained_models=models_train(datasets_name,orig_models_name,False,X_train,y_train,X_val,y_val)\n",
    "         y_test,y_pred=models_predict(trained_models,orig_models_name,X_test,y_test)\n",
    "\n",
    "     table=print_results(datasets_name,orig_models_name,y_test,y_pred,'original_accuracy')\n",
    "\n",
    "     lime = LimeTabular(predict_fn=trained_models[0].predict, data=X_train, random_state=1)\n",
    "\n",
    "     #Pick the instances to explain, optionally pass in labels if you have them\n",
    "     lime_local = lime.explain_local(X_test[:5], y_test[:5], name='LIME')\n",
    "     # print(lime_local)\n",
    "     \n",
    "     show(lime_local)\n",
    "\n"
   ]
  }
 ],
 "metadata": {
  "interpreter": {
   "hash": "a56ef4f8f84c44b3b227f685597acccb1d96f2f638ff5d164cf8fb466a77a95f"
  },
  "kernelspec": {
   "display_name": "Python 3.6.12 ('py36')",
   "language": "python",
   "name": "python3"
  },
  "language_info": {
   "codemirror_mode": {
    "name": "ipython",
    "version": 3
   },
   "file_extension": ".py",
   "mimetype": "text/x-python",
   "name": "python",
   "nbconvert_exporter": "python",
   "pygments_lexer": "ipython3",
   "version": "3.6.12"
  },
  "orig_nbformat": 4
 },
 "nbformat": 4,
 "nbformat_minor": 2
}
