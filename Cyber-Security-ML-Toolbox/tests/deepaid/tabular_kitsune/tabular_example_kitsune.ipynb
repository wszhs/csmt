{
 "cells": [
  {
   "cell_type": "markdown",
   "id": "0f0a1d8b",
   "metadata": {},
   "source": [
    "This exmaple will show you how to use DeepAID Interpreter upon a SOTA NIDS *Kitsune* (NDSS'18).\n",
    "\n",
    "We simplify the DL model to a single autoencoder for ease of illustration."
   ]
  },
  {
   "cell_type": "markdown",
   "id": "cf8cca62",
   "metadata": {},
   "source": [
    " # Prepare your DL model"
   ]
  },
  {
   "cell_type": "code",
   "execution_count": 1,
   "id": "b71e28fd",
   "metadata": {},
   "outputs": [],
   "source": [
    "%matplotlib inline\n",
    "%load_ext autoreload\n",
    "%autoreload 2\n",
    "import warnings\n",
    "warnings.filterwarnings('ignore')"
   ]
  },
  {
   "cell_type": "code",
   "execution_count": 2,
   "id": "31d1b0d8",
   "metadata": {},
   "outputs": [
    {
     "name": "stdout",
     "output_type": "stream",
     "text": [
      "epoch:0/0 |Loss: 0.050325267016887665\n",
      "epoch:0/10 |Loss: 0.03627059981226921\n",
      "epoch:0/20 |Loss: 0.02359006181359291\n",
      "epoch:0/30 |Loss: 0.017687782645225525\n",
      "epoch:0/40 |Loss: 0.012251004576683044\n",
      "epoch:0/50 |Loss: 0.011910964734852314\n",
      "epoch:0/60 |Loss: 0.010575455613434315\n",
      "epoch:0/70 |Loss: 0.010612315498292446\n",
      "epoch:0/80 |Loss: 0.008414724841713905\n",
      "epoch:0/90 |Loss: 0.011196578852832317\n",
      "epoch:0/100 |Loss: 0.007897039875388145\n",
      "epoch:0/110 |Loss: 0.00968477688729763\n",
      "epoch:0/120 |Loss: 0.007968610152602196\n",
      "epoch:0/130 |Loss: 0.007041106000542641\n",
      "epoch:0/140 |Loss: 0.01321518886834383\n",
      "epoch:0/150 |Loss: 0.007542287930846214\n",
      "epoch:0/160 |Loss: 0.007705105468630791\n",
      "epoch:0/170 |Loss: 0.008091779425740242\n",
      "epoch:0/180 |Loss: 0.007869303226470947\n",
      "epoch:0/190 |Loss: 0.008114654570817947\n",
      "epoch:0/200 |Loss: 0.006699248217046261\n",
      "epoch:0/210 |Loss: 0.007377055939286947\n",
      "epoch:0/220 |Loss: 0.007573551964014769\n",
      "epoch:0/230 |Loss: 0.0070730852894485\n",
      "epoch:0/240 |Loss: 0.011596474796533585\n",
      "epoch:0/250 |Loss: 0.005361731164157391\n",
      "epoch:0/260 |Loss: 0.006951004732400179\n",
      "epoch:0/270 |Loss: 0.007856125943362713\n",
      "epoch:0/280 |Loss: 0.008307741954922676\n",
      "epoch:0/290 |Loss: 0.006409224588423967\n",
      "epoch:0/300 |Loss: 0.0051156640984117985\n",
      "epoch:0/310 |Loss: 0.006705230101943016\n",
      "epoch:0/320 |Loss: 0.004329719580709934\n",
      "epoch:0/330 |Loss: 0.004316339269280434\n",
      "epoch:0/340 |Loss: 0.00337043683975935\n",
      "epoch:0/350 |Loss: 0.0053898910991847515\n",
      "epoch:0/360 |Loss: 0.003100291360169649\n",
      "epoch:0/370 |Loss: 0.005040488671511412\n",
      "epoch:0/380 |Loss: 0.0031234563793987036\n",
      "epoch:0/390 |Loss: 0.0033457146491855383\n",
      "epoch:1/0 |Loss: 0.0038628345355391502\n",
      "epoch:1/10 |Loss: 0.004464179743081331\n",
      "epoch:1/20 |Loss: 0.0035455524921417236\n",
      "epoch:1/30 |Loss: 0.0034786032047122717\n",
      "epoch:1/40 |Loss: 0.003083174116909504\n",
      "epoch:1/50 |Loss: 0.0030969639774411917\n",
      "epoch:1/60 |Loss: 0.0032839993946254253\n",
      "epoch:1/70 |Loss: 0.002400841098278761\n",
      "epoch:1/80 |Loss: 0.00324723357334733\n",
      "epoch:1/90 |Loss: 0.004016987979412079\n",
      "epoch:1/100 |Loss: 0.004022143315523863\n",
      "epoch:1/110 |Loss: 0.002981956582516432\n",
      "epoch:1/120 |Loss: 0.0025861330796033144\n",
      "epoch:1/130 |Loss: 0.004187081474810839\n",
      "epoch:1/140 |Loss: 0.0022581478115171194\n",
      "epoch:1/150 |Loss: 0.004256002604961395\n",
      "epoch:1/160 |Loss: 0.0024767834693193436\n",
      "epoch:1/170 |Loss: 0.0036459651309996843\n",
      "epoch:1/180 |Loss: 0.0023169966880232096\n",
      "epoch:1/190 |Loss: 0.0030443768482655287\n",
      "epoch:1/200 |Loss: 0.002797934925183654\n",
      "epoch:1/210 |Loss: 0.002373020863160491\n",
      "epoch:1/220 |Loss: 0.002218068577349186\n",
      "epoch:1/230 |Loss: 0.002855229889973998\n",
      "epoch:1/240 |Loss: 0.0016848144587129354\n",
      "epoch:1/250 |Loss: 0.0024556771386414766\n",
      "epoch:1/260 |Loss: 0.0021225165110081434\n",
      "epoch:1/270 |Loss: 0.0034225028939545155\n",
      "epoch:1/280 |Loss: 0.0029378824401646852\n",
      "epoch:1/290 |Loss: 0.0026784955989569426\n",
      "epoch:1/300 |Loss: 0.0021183935459703207\n",
      "epoch:1/310 |Loss: 0.0016185662243515253\n",
      "epoch:1/320 |Loss: 0.0026244735345244408\n",
      "epoch:1/330 |Loss: 0.002685840940102935\n",
      "epoch:1/340 |Loss: 0.0022861575707793236\n",
      "epoch:1/350 |Loss: 0.0013575527118518949\n",
      "epoch:1/360 |Loss: 0.0020253441762179136\n",
      "epoch:1/370 |Loss: 0.0019165551057085395\n",
      "epoch:1/380 |Loss: 0.002657421166077256\n",
      "epoch:1/390 |Loss: 0.0015685366233810782\n",
      "epoch:2/0 |Loss: 0.00232278136536479\n",
      "epoch:2/10 |Loss: 0.0029039066284894943\n",
      "epoch:2/20 |Loss: 0.0021594783756881952\n",
      "epoch:2/30 |Loss: 0.0017693719128146768\n",
      "epoch:2/40 |Loss: 0.002571800956502557\n",
      "epoch:2/50 |Loss: 0.0032666001934558153\n",
      "epoch:2/60 |Loss: 0.001570073887705803\n",
      "epoch:2/70 |Loss: 0.0015154615975916386\n",
      "epoch:2/80 |Loss: 0.0018475247779861093\n",
      "epoch:2/90 |Loss: 0.001702390261925757\n",
      "epoch:2/100 |Loss: 0.002314829733222723\n",
      "epoch:2/110 |Loss: 0.002125282771885395\n",
      "epoch:2/120 |Loss: 0.0016278231050819159\n",
      "epoch:2/130 |Loss: 0.0017578088445588946\n",
      "epoch:2/140 |Loss: 0.0018152121920138597\n",
      "epoch:2/150 |Loss: 0.0016138614155352116\n",
      "epoch:2/160 |Loss: 0.0014542266726493835\n",
      "epoch:2/170 |Loss: 0.0017631753580644727\n",
      "epoch:2/180 |Loss: 0.0019125946564599872\n",
      "epoch:2/190 |Loss: 0.0012341036926954985\n",
      "epoch:2/200 |Loss: 0.0014733034186065197\n",
      "epoch:2/210 |Loss: 0.0019256646046414971\n",
      "epoch:2/220 |Loss: 0.0019772076047956944\n",
      "epoch:2/230 |Loss: 0.0019708171021193266\n",
      "epoch:2/240 |Loss: 0.0012469268403947353\n",
      "epoch:2/250 |Loss: 0.0014844831312075257\n",
      "epoch:2/260 |Loss: 0.001704549416899681\n",
      "epoch:2/270 |Loss: 0.0016958836931735277\n",
      "epoch:2/280 |Loss: 0.0025130026042461395\n",
      "epoch:2/290 |Loss: 0.0022826315835118294\n",
      "epoch:2/300 |Loss: 0.001563460100442171\n",
      "epoch:2/310 |Loss: 0.0014427624410018325\n",
      "epoch:2/320 |Loss: 0.0015313387848436832\n",
      "epoch:2/330 |Loss: 0.0016081504290923476\n",
      "epoch:2/340 |Loss: 0.0013760164147242904\n",
      "epoch:2/350 |Loss: 0.0021990404929965734\n",
      "epoch:2/360 |Loss: 0.0015894025564193726\n",
      "epoch:2/370 |Loss: 0.0015072234673425555\n",
      "epoch:2/380 |Loss: 0.0018394431099295616\n",
      "epoch:2/390 |Loss: 0.0018913329113274813\n",
      "epoch:3/0 |Loss: 0.001685205614194274\n",
      "epoch:3/10 |Loss: 0.0016344197792932391\n",
      "epoch:3/20 |Loss: 0.0023301108740270138\n",
      "epoch:3/30 |Loss: 0.0017432396998628974\n",
      "epoch:3/40 |Loss: 0.0015499192522838712\n",
      "epoch:3/50 |Loss: 0.001785294502042234\n",
      "epoch:3/60 |Loss: 0.001116467290557921\n",
      "epoch:3/70 |Loss: 0.0019956170581281185\n",
      "epoch:3/80 |Loss: 0.002037512604147196\n",
      "epoch:3/90 |Loss: 0.0016433956334367394\n",
      "epoch:3/100 |Loss: 0.0017306818626821041\n",
      "epoch:3/110 |Loss: 0.002142460085451603\n",
      "epoch:3/120 |Loss: 0.0020319754257798195\n",
      "epoch:3/130 |Loss: 0.0011512554483488202\n",
      "epoch:3/140 |Loss: 0.0011671106331050396\n",
      "epoch:3/150 |Loss: 0.0014392656739801168\n",
      "epoch:3/160 |Loss: 0.0019960009958595037\n",
      "epoch:3/170 |Loss: 0.001458079437725246\n",
      "epoch:3/180 |Loss: 0.0014460848178714514\n",
      "epoch:3/190 |Loss: 0.00135422358289361\n",
      "epoch:3/200 |Loss: 0.0019192337058484554\n",
      "epoch:3/210 |Loss: 0.0015596328303217888\n",
      "epoch:3/220 |Loss: 0.0013185185380280018\n",
      "epoch:3/230 |Loss: 0.0015578367747366428\n",
      "epoch:3/240 |Loss: 0.0022624062839895487\n",
      "epoch:3/250 |Loss: 0.0023743566125631332\n",
      "epoch:3/260 |Loss: 0.0014028421137481928\n",
      "epoch:3/270 |Loss: 0.0010667757596820593\n",
      "epoch:3/280 |Loss: 0.00198633735999465\n",
      "epoch:3/290 |Loss: 0.0016214322531595826\n",
      "epoch:3/300 |Loss: 0.0031898734159767628\n",
      "epoch:3/310 |Loss: 0.0013733028899878263\n",
      "epoch:3/320 |Loss: 0.001628084690310061\n",
      "epoch:3/330 |Loss: 0.0011552704963833094\n",
      "epoch:3/340 |Loss: 0.0012287137797102332\n",
      "epoch:3/350 |Loss: 0.0011162623995915055\n",
      "epoch:3/360 |Loss: 0.0017652156529948115\n",
      "epoch:3/370 |Loss: 0.0012978205922991037\n",
      "epoch:3/380 |Loss: 0.0011822329834103584\n",
      "epoch:3/390 |Loss: 0.0013772716047242284\n",
      "epoch:4/0 |Loss: 0.0010377406142652035\n",
      "epoch:4/10 |Loss: 0.001564549165777862\n",
      "epoch:4/20 |Loss: 0.0015781630063429475\n",
      "epoch:4/30 |Loss: 0.0014954006765037775\n",
      "epoch:4/40 |Loss: 0.0020295821595937014\n",
      "epoch:4/50 |Loss: 0.001755604869686067\n",
      "epoch:4/60 |Loss: 0.001435768324881792\n",
      "epoch:4/70 |Loss: 0.0011050428729504347\n",
      "epoch:4/80 |Loss: 0.0014876436907798052\n",
      "epoch:4/90 |Loss: 0.0016420247266069055\n",
      "epoch:4/100 |Loss: 0.0012799014803022146\n",
      "epoch:4/110 |Loss: 0.0016708022449165583\n",
      "epoch:4/120 |Loss: 0.0018290167208760977\n",
      "epoch:4/130 |Loss: 0.0009261663071811199\n",
      "epoch:4/140 |Loss: 0.0013843950582668185\n",
      "epoch:4/150 |Loss: 0.0016529449494555593\n",
      "epoch:4/160 |Loss: 0.0015769515885040164\n",
      "epoch:4/170 |Loss: 0.0018727830611169338\n",
      "epoch:4/180 |Loss: 0.0011414922773838043\n",
      "epoch:4/190 |Loss: 0.0012360161636024714\n",
      "epoch:4/200 |Loss: 0.0012412231881171465\n",
      "epoch:4/210 |Loss: 0.001102812122553587\n",
      "epoch:4/220 |Loss: 0.002097640885040164\n",
      "epoch:4/230 |Loss: 0.001972807105630636\n",
      "epoch:4/240 |Loss: 0.001285040401853621\n",
      "epoch:4/250 |Loss: 0.002720164367929101\n",
      "epoch:4/260 |Loss: 0.0019576388876885176\n",
      "epoch:4/270 |Loss: 0.001643347553908825\n",
      "epoch:4/280 |Loss: 0.0014596080873161554\n",
      "epoch:4/290 |Loss: 0.0014529097825288773\n",
      "epoch:4/300 |Loss: 0.0023539713583886623\n",
      "epoch:4/310 |Loss: 0.0016572007443755865\n",
      "epoch:4/320 |Loss: 0.001838783617131412\n",
      "epoch:4/330 |Loss: 0.002076963661238551\n",
      "epoch:4/340 |Loss: 0.0020481825340539217\n",
      "epoch:4/350 |Loss: 0.0014223232865333557\n",
      "epoch:4/360 |Loss: 0.0012290411395952106\n",
      "epoch:4/370 |Loss: 0.001254181144759059\n",
      "epoch:4/380 |Loss: 0.0013801043387502432\n",
      "epoch:4/390 |Loss: 0.0011211500968784094\n",
      "max AD score 0.38217393\n",
      "thres: 0.3455014\n"
     ]
    }
   ],
   "source": [
    "# Train an autoencoder-based DL model\n",
    "import numpy as np\n",
    "import torch\n",
    "from autoencoder import train, test, test_plot\n",
    "import sys\n",
    "sys.path.append('../../deepaid/')\n",
    "from utils import validate_by_rmse, Normalizer\n",
    "train_feat = np.load('data/train_benign_feat.npy')\n",
    "normer = Normalizer(train_feat.shape[-1],online_minmax=True)\n",
    "train_feat = normer.fit_transform(train_feat)\n",
    "model, thres = train(train_feat, train_feat.shape[-1])\n",
    "torch.save({'net':model,'thres':thres},'./save/autoencoder.pth.tar')"
   ]
  },
  {
   "cell_type": "code",
   "execution_count": 3,
   "id": "cec19f07",
   "metadata": {},
   "outputs": [
    {
     "data": {
      "image/png": "[encoded data removed]",
      "text/plain": [
       "<Figure size 432x288 with 1 Axes>"
      ]
     },
     "metadata": {
      "needs_background": "light"
     },
     "output_type": "display_data"
    }
   ],
   "source": [
    "# Validate the performance of trained model\n",
    "test_feat = np.load('data/test_mirai_ddos.npy')\n",
    "test_feat = normer.transform(test_feat)\n",
    "rmse_vec = test(model,thres,test_feat)\n",
    "test_plot(test_feat, rmse_vec, thres) # ACC = 0.84"
   ]
  },
  {
   "cell_type": "markdown",
   "id": "2f5f07e7",
   "metadata": {},
   "source": [
    "# Interpret your interested anomaly in four steps "
   ]
  },
  {
   "cell_type": "code",
   "execution_count": 4,
   "id": "659b1aa0",
   "metadata": {},
   "outputs": [
    {
     "name": "stdout",
     "output_type": "stream",
     "text": [
      "Successfully Initialize <Tabular Interptreter> for Model <autoencoder>\n",
      "Finish Interpretation after 499 steps (Final loss: 0.16, Time elasped: 1.20s)\n",
      "\n",
      "Visualize Interpretation (Table View)\n",
      "+---------------------+------------------+-------+--------------------+\n",
      "| Feature Description | Value in Anomaly | comp. | Value in Reference |\n",
      "+---------------------+------------------+-------+--------------------+\n",
      "|  MI_dir_0.1_weight  |     3227.63      |   >   |      483.413       |\n",
      "|  MI_dir_0.01_weight |    23117.713     |   >   |      4259.929      |\n",
      "|  MI_dir_1.0_weight  |     386.527      |   >   |      141.729       |\n",
      "|  MI_dir_3.0_weight  |     170.356      |   >   |       70.842       |\n",
      "|  MI_dir_5.0_weight  |      124.98      |   >   |       61.988       |\n",
      "+---------------------+------------------+-------+--------------------+\n",
      "\n",
      "Visualize Interpretation (Plot View)\n"
     ]
    },
    {
     "data": {
      "image/png": "[encoded data removed]",
      "text/plain": [
       "<Figure size 432x288 with 1 Axes>"
      ]
     },
     "metadata": {
      "needs_background": "light"
     },
     "output_type": "display_data"
    },
    {
     "name": "stdout",
     "output_type": "stream",
     "text": [
      "\n",
      "Visualize Interpretation (HeatMap View)\n"
     ]
    },
    {
     "data": {
      "image/png": "[encoded data removed]",
      "text/plain": [
       "<Figure size 1440x360 with 1 Axes>"
      ]
     },
     "metadata": {
      "needs_background": "light"
     },
     "output_type": "display_data"
    }
   ],
   "source": [
    "\"\"\"Step 1: Load your model\"\"\"\n",
    "from autoencoder import autoencoder\n",
    "from utils import Normalizer\n",
    "model_dict = torch.load('save/autoencoder.pth.tar')\n",
    "model = model_dict['net']\n",
    "thres = model_dict['thres']\n",
    "\n",
    "\"\"\"Step 2: Find an anomaly you are interested in (here we use the IP scan in Mirai botnet attack)\"\"\"\n",
    "anomaly = test_feat[np.argsort(rmse_vec)[-100]]\n",
    "\n",
    "\"\"\"Step 3: Create a DeepAID Tabular Interpreter\"\"\"\n",
    "import sys\n",
    "sys.path.append(\"../../deepaid/interpreters/\")\n",
    "from tabular import TabularAID\n",
    "feature_desc = np.load('data/AI_feature_name.npy') # feature_description\n",
    "my_interpreter = TabularAID(model,thres,input_size=100,feature_desc=feature_desc)\n",
    "\n",
    "\"\"\"Step 4: Interpret your anomaly and show the result\"\"\"\n",
    "interpretation = my_interpreter(anomaly)\n",
    "# DeepAID supports three kinds of visualization of results:\n",
    "my_interpreter.show_table(anomaly,interpretation, normer) \n",
    "my_interpreter.show_plot(anomaly, interpretation, normer)\n",
    "my_interpreter.show_heatmap(anomaly,interpretation, normer)\n"
   ]
  },
  {
   "cell_type": "markdown",
   "id": "2aeb3392",
   "metadata": {},
   "source": [
    "**As we can see that, the top-5 influencial features from the results of Interpreter are all related to *MI_dir* (packets sent from the same MAC&IP).\n",
    "This confirms the anomaly is a IP Scanning.**"
   ]
  }
 ],
 "metadata": {
  "hide_input": false,
  "kernelspec": {
   "display_name": "Python 3 (ipykernel)",
   "language": "python",
   "name": "python3"
  },
  "language_info": {
   "codemirror_mode": {
    "name": "ipython",
    "version": 3
   },
   "file_extension": ".py",
   "mimetype": "text/x-python",
   "name": "python",
   "nbconvert_exporter": "python",
   "pygments_lexer": "ipython3",
   "version": "3.7.11"
  },
  "varInspector": {
   "cols": {
    "lenName": 16,
    "lenType": 16,
    "lenVar": 40
   },
   "kernels_config": {
    "python": {
     "delete_cmd_postfix": "",
     "delete_cmd_prefix": "del ",
     "library": "var_list.py",
     "varRefreshCmd": "print(var_dic_list())"
    },
    "r": {
     "delete_cmd_postfix": ") ",
     "delete_cmd_prefix": "rm(",
     "library": "var_list.r",
     "varRefreshCmd": "cat(var_dic_list()) "
    }
   },
   "types_to_exclude": [
    "module",
    "function",
    "builtin_function_or_method",
    "instance",
    "_Feature"
   ],
   "window_display": false
  }
 },
 "nbformat": 4,
 "nbformat_minor": 5
}
