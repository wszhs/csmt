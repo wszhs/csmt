{
 "cells": [
  {
   "cell_type": "markdown",
   "id": "c8e5cefd",
   "metadata": {},
   "source": [
    "This example shows how to interpret anomalies in *tabular* data. \n",
    "\n",
    "To verify the effectiveness of DeepAID, we use a synthetic dataset here."
   ]
  },
  {
   "cell_type": "markdown",
   "id": "e0b12e99",
   "metadata": {},
   "source": [
    "# Generate a synthetic dataset"
   ]
  },
  {
   "cell_type": "code",
   "execution_count": 11,
   "id": "11a8f334",
   "metadata": {},
   "outputs": [
    {
     "name": "stdout",
     "output_type": "stream",
     "text": [
      "The autoreload extension is already loaded. To reload it, use:\n",
      "  %reload_ext autoreload\n",
      "X.shape: (5050, 100)\n",
      "perturb index: [25, 30, 40, 42, 47, 51, 58, 75, 78, 84]\n"
     ]
    },
    {
     "data": {
      "image/png": "[encoded data removed]",
      "text/plain": [
       "<Figure size 432x288 with 1 Axes>"
      ]
     },
     "metadata": {
      "needs_background": "light"
     },
     "output_type": "display_data"
    }
   ],
   "source": [
    "%matplotlib inline\n",
    "%load_ext autoreload\n",
    "%autoreload 2\n",
    "from sklearn.datasets import make_blobs\n",
    "import matplotlib.pyplot as plt\n",
    "from sklearn.decomposition import PCA\n",
    "import random \n",
    "import numpy as np\n",
    "\n",
    "# Generate Gaussian blobs (single cluster) consists 5050 100-dimension samples\n",
    "X, _ = make_blobs(n_samples=5050, centers=1, n_features=100,\n",
    "                  random_state=0, cluster_std=2.)\n",
    "print('X.shape:',X.shape)\n",
    "\n",
    "# first 5000 samples are used for training\n",
    "X_train = X[:-50,:]\n",
    "\n",
    "# generate anomalies by randomly perturbing 10 dimensions (1%) in the last 50 samples\n",
    "random.seed(0)\n",
    "noise_idx = random.choices(list(range(100)),k=10)\n",
    "noise_idx.sort()\n",
    "print('perturb index:',noise_idx)\n",
    "noise_data = np.random.uniform(-20,-20,(50,10))\n",
    "X_anomaly = X[-50:,:]\n",
    "X_anomaly[:,noise_idx] += noise_data\n",
    "\n",
    "# visualize anomaly and normal training data in 2D space \n",
    "X_train_plot = X_train[:, noise_idx]\n",
    "pca = PCA(n_components=2).fit(X_train_plot)\n",
    "plt.scatter(X_train_plot[:, 0], X_train_plot[:, 1], alpha=0.5, s=3, label=\"training data (normal)\")\n",
    "X_anomaly_plot = X_anomaly[:,noise_idx]\n",
    "pca = PCA(n_components=2).fit(X_anomaly_plot)\n",
    "plt.scatter(X_anomaly_plot[:, 0], X_anomaly_plot[:, 1], alpha=1., s=4, c=\"r\", label=\"anomaly\")\n",
    "plt.legend()\n",
    "plt.show()"
   ]
  },
  {
   "cell_type": "markdown",
   "id": "29f78dc2",
   "metadata": {},
   "source": [
    "# Prepare a DL model for anomaly detection"
   ]
  },
  {
   "cell_type": "code",
   "execution_count": 12,
   "id": "f744a792",
   "metadata": {},
   "outputs": [
    {
     "name": "stdout",
     "output_type": "stream",
     "text": [
      "epoch:0/0 |Loss: 0.2599683105945587\n",
      "epoch:0/10 |Loss: 0.20870228111743927\n",
      "epoch:0/20 |Loss: 0.12251878529787064\n",
      "epoch:0/30 |Loss: 0.0518486350774765\n",
      "epoch:1/0 |Loss: 0.02416771836578846\n",
      "epoch:1/10 |Loss: 0.020561272278428078\n",
      "epoch:1/20 |Loss: 0.019190704450011253\n",
      "epoch:1/30 |Loss: 0.019059639424085617\n",
      "epoch:2/0 |Loss: 0.018613087013363838\n",
      "epoch:2/10 |Loss: 0.018764011561870575\n",
      "epoch:2/20 |Loss: 0.018767589703202248\n",
      "epoch:2/30 |Loss: 0.018780352547764778\n",
      "epoch:3/0 |Loss: 0.01864083856344223\n",
      "epoch:3/10 |Loss: 0.018763311207294464\n",
      "epoch:3/20 |Loss: 0.019030723720788956\n",
      "epoch:3/30 |Loss: 0.019144006073474884\n",
      "epoch:4/0 |Loss: 0.01867908425629139\n",
      "epoch:4/10 |Loss: 0.019070617854595184\n",
      "epoch:4/20 |Loss: 0.018971407786011696\n",
      "epoch:4/30 |Loss: 0.019057834520936012\n",
      "max AD score 0.16973726\n",
      "thres: 0.16973726\n"
     ]
    }
   ],
   "source": [
    "# Train an autoencoder-based DL model\n",
    "import numpy as np\n",
    "import torch\n",
    "import sys\n",
    "sys.path.append('/Users/zhanghangsheng/others_code/HanDQ/DeepAID/deepaid')\n",
    "from autoencoder import train, test, test_plot\n",
    "from utils import validate_by_rmse, Normalizer\n",
    "normer = Normalizer(X_train.shape[-1],online_minmax=False)\n",
    "X_train = normer.fit_transform(X_train)\n",
    "model, thres = train(X_train, X_train.shape[-1])\n",
    "torch.save({'net':model,'thres':thres},'/Users/zhanghangsheng/others_code/HanDQ/DeepAID/demos/tabular_synthesis/save/autoencoder.pth.tar')"
   ]
  },
  {
   "cell_type": "code",
   "execution_count": 13,
   "id": "6b7fee81",
   "metadata": {},
   "outputs": [
    {
     "data": {
      "image/png": "[encoded data removed]",
      "text/plain": [
       "<Figure size 432x288 with 1 Axes>"
      ]
     },
     "metadata": {
      "needs_background": "light"
     },
     "output_type": "display_data"
    }
   ],
   "source": [
    "# Validate the performance of trained model\n",
    "X_anomaly_norm = normer.transform(X_anomaly)\n",
    "rmse_vec = test(model,thres,X_anomaly_norm)\n",
    "test_plot(X_anomaly_norm, rmse_vec, thres) # ACC = 100%"
   ]
  },
  {
   "cell_type": "markdown",
   "id": "24a6b113",
   "metadata": {},
   "source": [
    "# Interpret the generated anomalies"
   ]
  },
  {
   "cell_type": "code",
   "execution_count": 25,
   "id": "0cd4f9a2",
   "metadata": {},
   "outputs": [
    {
     "ename": "ModuleNotFoundError",
     "evalue": "No module named 'tabular'",
     "output_type": "error",
     "traceback": [
      "\u001b[0;31m---------------------------------------------------------------------------\u001b[0m",
      "\u001b[0;31mModuleNotFoundError\u001b[0m                       Traceback (most recent call last)",
      "\u001b[0;32m<ipython-input-25-88b836a2d914>\u001b[0m in \u001b[0;36m<module>\u001b[0;34m\u001b[0m\n\u001b[1;32m     10\u001b[0m \u001b[0;32mimport\u001b[0m \u001b[0msys\u001b[0m\u001b[0;34m\u001b[0m\u001b[0;34m\u001b[0m\u001b[0m\n\u001b[1;32m     11\u001b[0m \u001b[0msys\u001b[0m\u001b[0;34m.\u001b[0m\u001b[0mpath\u001b[0m\u001b[0;34m.\u001b[0m\u001b[0mappend\u001b[0m\u001b[0;34m(\u001b[0m\u001b[0;34m'/Users/zhanghangsheng/others_code/HanDQ/DeepAID/deepaid'\u001b[0m\u001b[0;34m)\u001b[0m\u001b[0;34m\u001b[0m\u001b[0;34m\u001b[0m\u001b[0m\n\u001b[0;32m---> 12\u001b[0;31m \u001b[0;32mfrom\u001b[0m \u001b[0mtabular\u001b[0m \u001b[0;32mimport\u001b[0m \u001b[0mTabularAID\u001b[0m\u001b[0;34m\u001b[0m\u001b[0;34m\u001b[0m\u001b[0m\n\u001b[0m\u001b[1;32m     13\u001b[0m \u001b[0mmy_interpreter\u001b[0m \u001b[0;34m=\u001b[0m \u001b[0mTabularAID\u001b[0m\u001b[0;34m(\u001b[0m\u001b[0mmodel\u001b[0m\u001b[0;34m,\u001b[0m\u001b[0mthres\u001b[0m\u001b[0;34m,\u001b[0m\u001b[0minput_size\u001b[0m\u001b[0;34m=\u001b[0m\u001b[0;36m100\u001b[0m\u001b[0;34m,\u001b[0m\u001b[0mk\u001b[0m\u001b[0;34m=\u001b[0m\u001b[0;36m10\u001b[0m\u001b[0;34m,\u001b[0m\u001b[0msteps\u001b[0m\u001b[0;34m=\u001b[0m\u001b[0;36m100\u001b[0m\u001b[0;34m,\u001b[0m\u001b[0mauto_params\u001b[0m\u001b[0;34m=\u001b[0m\u001b[0;32mFalse\u001b[0m\u001b[0;34m)\u001b[0m\u001b[0;34m\u001b[0m\u001b[0;34m\u001b[0m\u001b[0m\n\u001b[1;32m     14\u001b[0m \u001b[0;34m\u001b[0m\u001b[0m\n",
      "\u001b[0;31mModuleNotFoundError\u001b[0m: No module named 'tabular'"
     ]
    }
   ],
   "source": [
    "\"\"\"Load the model\"\"\"\n",
    "from autoencoder import autoencoder\n",
    "from utils import Normalizer\n",
    "model_dict = torch.load('/Users/zhanghangsheng/others_code/HanDQ/DeepAID/demos/tabular_synthesis/save/autoencoder.pth.tar')\n",
    "model = model_dict['net']\n",
    "thres = model_dict['thres']\n",
    "\n",
    "\n",
    "\"\"\" Create a DeepAID Tabular Interpreter\"\"\"\n",
    "import sys\n",
    "sys.path.append('/Users/zhanghangsheng/others_code/HanDQ/DeepAID/deepaid')\n",
    "from tabular import TabularAID\n",
    "my_interpreter = TabularAID(model,thres,input_size=100,k=10,steps=100,auto_params=False)\n",
    "\n",
    "\"\"\"Interpret the anomalies\"\"\"\n",
    "# for anomaly in X_anomaly:\n",
    "anomaly = X_anomaly[5]\n",
    "interpretation = my_interpreter(anomaly)\n",
    "my_interpreter.show_table(anomaly,interpretation, normer) \n",
    "\n",
    "print('perturb index:',noise_idx)\n"
   ]
  },
  {
   "cell_type": "markdown",
   "id": "c70e9fed",
   "metadata": {},
   "source": [
    "**As we can see that, the Interpreter successfully finds all perturbed dimensions**"
   ]
  }
 ],
 "metadata": {
  "hide_input": false,
  "kernelspec": {
   "display_name": "Python 3 (ipykernel)",
   "language": "python",
   "name": "python3"
  },
  "language_info": {
   "codemirror_mode": {
    "name": "ipython",
    "version": 3
   },
   "file_extension": ".py",
   "mimetype": "text/x-python",
   "name": "python",
   "nbconvert_exporter": "python",
   "pygments_lexer": "ipython3",
   "version": "3.6.12"
  },
  "varInspector": {
   "cols": {
    "lenName": 16,
    "lenType": 16,
    "lenVar": 40
   },
   "kernels_config": {
    "python": {
     "delete_cmd_postfix": "",
     "delete_cmd_prefix": "del ",
     "library": "var_list.py",
     "varRefreshCmd": "print(var_dic_list())"
    },
    "r": {
     "delete_cmd_postfix": ") ",
     "delete_cmd_prefix": "rm(",
     "library": "var_list.r",
     "varRefreshCmd": "cat(var_dic_list()) "
    }
   },
   "types_to_exclude": [
    "module",
    "function",
    "builtin_function_or_method",
    "instance",
    "_Feature"
   ],
   "window_display": false
  }
 },
 "nbformat": 4,
 "nbformat_minor": 5
}
