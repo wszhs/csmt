{
 "cells": [
  {
   "cell_type": "code",
   "execution_count": 1,
   "id": "6b6768a6",
   "metadata": {},
   "outputs": [],
   "source": [
    "%matplotlib inline\n",
    "%load_ext autoreload\n",
    "%autoreload 2\n",
    "import warnings\n",
    "warnings.filterwarnings('ignore')"
   ]
  },
  {
   "cell_type": "code",
   "execution_count": 2,
   "id": "f2c7b9c0",
   "metadata": {},
   "outputs": [
    {
     "name": "stdout",
     "output_type": "stream",
     "text": [
      "User Warning: Underlying model is not implemented with Pytorch\n",
      "Successfully Initialize <Graph_Embed_Link Interptreter> for Model <LogisticRegression>\n",
      "anomaly_node_pair 1312 21337\n",
      "User Warning: Underlying model is not implemented with Pytorch\n",
      "User Warning: Underlying model is not implemented with Pytorch\n",
      "reference_node_pair 21337 4722\n"
     ]
    }
   ],
   "source": [
    "import _pickle as pkl\n",
    "from sklearn.linear_model import LogisticRegression\n",
    "import sys\n",
    "sys.path.append(\"../../deepaid/interpreters/\")\n",
    "sys.path.append('../../deepaid/')\n",
    "from graph_embed_link import GraphEmbedLink\n",
    "edge_list_file = 'data/train_ben.edgelist'\n",
    "node_name_map = pkl.load(open('data/node_map.pkl','rb'))\n",
    "embeddings = np.load('data/embeddings.npy')\n",
    "model = pkl.load(open('save/clf.pkl','rb'))\n",
    "interpretper = GraphEmbedLink(model,input_size=64,edge_list_file=edge_list_file,node_name_map=node_name_map,embeddings=embeddings)\n",
    "anomaly_embedding = np.load('data/anomaly_embedding.npy')[83]\n",
    "anomaly_node_pair = np.load('data/anomaly_node_pair.npy')[83]\n",
    "print('anomaly_node_pair',anomaly_node_pair[0],anomaly_node_pair[1])\n",
    "item = interpretper(anomaly_embedding,anomaly_node_pair)\n",
    "print('reference_node_pair',item[-2],item[-1])"
   ]
  }
 ],
 "metadata": {
  "hide_input": false,
  "kernelspec": {
   "display_name": "Python 3 (ipykernel)",
   "language": "python",
   "name": "python3"
  },
  "language_info": {
   "codemirror_mode": {
    "name": "ipython",
    "version": 3
   },
   "file_extension": ".py",
   "mimetype": "text/x-python",
   "name": "python",
   "nbconvert_exporter": "python",
   "pygments_lexer": "ipython3",
   "version": "3.7.11"
  },
  "varInspector": {
   "cols": {
    "lenName": 16,
    "lenType": 16,
    "lenVar": 40
   },
   "kernels_config": {
    "python": {
     "delete_cmd_postfix": "",
     "delete_cmd_prefix": "del ",
     "library": "var_list.py",
     "varRefreshCmd": "print(var_dic_list())"
    },
    "r": {
     "delete_cmd_postfix": ") ",
     "delete_cmd_prefix": "rm(",
     "library": "var_list.r",
     "varRefreshCmd": "cat(var_dic_list()) "
    }
   },
   "types_to_exclude": [
    "module",
    "function",
    "builtin_function_or_method",
    "instance",
    "_Feature"
   ],
   "window_display": false
  }
 },
 "nbformat": 4,
 "nbformat_minor": 5
}
